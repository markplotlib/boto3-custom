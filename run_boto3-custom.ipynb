{
 "cells": [
  {
   "cell_type": "markdown",
   "metadata": {},
   "source": [
    "# Helper package for AWS S3 with boto3\n",
    "\n",
    "### Functions covered\n",
    "\n",
    "* S3\n",
    "* * `upload`\n",
    "* * `read_file`"
   ]
  },
  {
   "cell_type": "code",
   "execution_count": null,
   "metadata": {},
   "outputs": [],
   "source": [
    "import pandas as pd\n",
    "import numpy as np\n",
    "import os"
   ]
  },
  {
   "cell_type": "code",
   "execution_count": null,
   "metadata": {},
   "outputs": [],
   "source": [
    "from boto3_custom.simple_storage import upload, read_file"
   ]
  },
  {
   "cell_type": "markdown",
   "metadata": {},
   "source": [
    "### Upload directory of files into S3\n",
    "\n",
    "##### Setup: create directory containing a file"
   ]
  },
  {
   "cell_type": "code",
   "execution_count": null,
   "metadata": {},
   "outputs": [],
   "source": [
    "# create data file inside of directory\n",
    "from sklearn.datasets import load_iris, load_diabetes\n",
    "iris = load_iris()\n",
    "df = pd.DataFrame(iris['data'], columns=list(iris.feature_names))\n",
    "\n",
    "dir1 = 'new_folder'\n",
    "os.mkdir(dir1)\n",
    "df.to_csv(os.path.join(dir1, 'iris.csv'))"
   ]
  },
  {
   "cell_type": "markdown",
   "metadata": {},
   "source": [
    "#### Upload folder"
   ]
  },
  {
   "cell_type": "code",
   "execution_count": null,
   "metadata": {},
   "outputs": [],
   "source": [
    "upload('new_folder')"
   ]
  },
  {
   "cell_type": "markdown",
   "metadata": {},
   "source": [
    "##### Setup: create file within subdirectory"
   ]
  },
  {
   "cell_type": "code",
   "execution_count": null,
   "metadata": {},
   "outputs": [],
   "source": [
    "diab = load_diabetes()\n",
    "df2 = pd.DataFrame(diab['data'], columns=list(diab.feature_names))\n",
    "df2.to_csv(os.path.join(dir1, 'diab.csv'))"
   ]
  },
  {
   "cell_type": "markdown",
   "metadata": {},
   "source": [
    "#### Upload file\n",
    "\n",
    "Remember that when uploading a file, a value for `sub_dir` (subdirectory) is required."
   ]
  },
  {
   "cell_type": "code",
   "execution_count": null,
   "metadata": {},
   "outputs": [],
   "source": [
    "# os.getcwd()  # show current working directory"
   ]
  },
  {
   "cell_type": "code",
   "execution_count": null,
   "metadata": {},
   "outputs": [],
   "source": [
    "os.chdir('new_folder')  # change directory (into folder)\n",
    "# os.getcwd()"
   ]
  },
  {
   "cell_type": "code",
   "execution_count": null,
   "metadata": {},
   "outputs": [],
   "source": [
    "upload(obj='diab.csv', sub_dir='new_folder')\n",
    "\n",
    "os.chdir('..')  # change directory (up one level)\n",
    "# os.getcwd()"
   ]
  },
  {
   "cell_type": "markdown",
   "metadata": {},
   "source": [
    "### Read a file from S3"
   ]
  },
  {
   "cell_type": "code",
   "execution_count": null,
   "metadata": {},
   "outputs": [],
   "source": [
    "df_diabetes = read_file(sub_dir='new_folder', file='diab.csv')\n",
    "df_diabetes.head()"
   ]
  },
  {
   "cell_type": "markdown",
   "metadata": {},
   "source": [
    "##### clean up"
   ]
  },
  {
   "cell_type": "code",
   "execution_count": null,
   "metadata": {},
   "outputs": [],
   "source": [
    "# clear local workspace\n",
    "for file in os.listdir(dir1):\n",
    "    os.remove(os.path.join(dir1, file))\n",
    "os.rmdir(dir1)"
   ]
  },
  {
   "cell_type": "code",
   "execution_count": null,
   "metadata": {},
   "outputs": [],
   "source": [
    "# After function call, folder is shown\n",
    "!aws s3 ls 's3://originchain/new_folder/' --profile dl_user"
   ]
  },
  {
   "cell_type": "code",
   "execution_count": null,
   "metadata": {},
   "outputs": [],
   "source": [
    "# Clear contents uploaded to AWS S3\n",
    "!aws s3 rm --recursive 's3://originchain/new_folder' --profile dl_user"
   ]
  }
 ],
 "metadata": {
  "kernelspec": {
   "display_name": "Python 3",
   "language": "python",
   "name": "python3"
  },
  "language_info": {
   "codemirror_mode": {
    "name": "ipython",
    "version": 3
   },
   "file_extension": ".py",
   "mimetype": "text/x-python",
   "name": "python",
   "nbconvert_exporter": "python",
   "pygments_lexer": "ipython3",
   "version": "3.7.6"
  }
 },
 "nbformat": 4,
 "nbformat_minor": 4
}
